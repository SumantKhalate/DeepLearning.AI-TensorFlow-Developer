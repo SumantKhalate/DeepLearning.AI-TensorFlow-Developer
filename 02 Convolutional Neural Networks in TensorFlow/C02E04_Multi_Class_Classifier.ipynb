{
 "cells": [
  {
   "cell_type": "code",
   "execution_count": 1,
   "metadata": {
    "colab": {},
    "colab_type": "code",
    "id": "wYtuKeK0dImp"
   },
   "outputs": [],
   "source": [
    "# ATTENTION: Please do not alter any of the provided code in the exercise. Only add your own code where indicated\n",
    "# ATTENTION: Please do not add or remove any cells in the exercise. The grader will check specific cells based on the cell position.\n",
    "# ATTENTION: Please use the provided epoch values when training.\n",
    "\n",
    "import csv\n",
    "import numpy as np\n",
    "import tensorflow as tf\n",
    "from tensorflow.keras.preprocessing.image import ImageDataGenerator\n",
    "from os import getcwd"
   ]
  },
  {
   "cell_type": "code",
   "execution_count": 2,
   "metadata": {
    "colab": {},
    "colab_type": "code",
    "id": "4kxw-_rmcnVu"
   },
   "outputs": [
    {
     "name": "stdout",
     "output_type": "stream",
     "text": [
      "(27455, 28, 28)\n",
      "(27455,)\n",
      "(7172, 28, 28)\n",
      "(7172,)\n"
     ]
    }
   ],
   "source": [
    "def get_data(filename):\n",
    "  # You will need to write code that will read the file passed\n",
    "  # into this function. The first line contains the column headers\n",
    "  # so you should ignore it\n",
    "  # Each successive line contians 785 comma separated values between 0 and 255\n",
    "  # The first value is the label\n",
    "  # The rest are the pixel values for that picture\n",
    "  # The function will return 2 np.array types. One with all the labels\n",
    "  # One with all the images\n",
    "  #\n",
    "  # Tips: \n",
    "  # If you read a full line (as 'row') then row[0] has the label\n",
    "  # and row[1:785] has the 784 pixel values\n",
    "  # Take a look at np.array_split to turn the 784 pixels into 28x28\n",
    "  # You are reading in strings, but need the values to be floats\n",
    "  # Check out np.array().astype for a conversion\n",
    "    with open(filename) as training_file:\n",
    "        # Your code starts here\n",
    "        data = np.genfromtxt(filename, delimiter=',', skip_header=1, dtype=np.uint8)\n",
    "        labels = data[:,0]\n",
    "        images = data[:,1:]\n",
    "        images = np.reshape(images,(data.shape[0],28,28))\n",
    "        # Your code ends here\n",
    "    return images, labels\n",
    "\n",
    "path_sign_mnist_train = f\"{getcwd()}/../tmp2/sign_mnist_train.csv\"\n",
    "path_sign_mnist_test = f\"{getcwd()}/../tmp2/sign_mnist_test.csv\"\n",
    "training_images, training_labels = get_data(path_sign_mnist_train)\n",
    "testing_images, testing_labels = get_data(path_sign_mnist_test)\n",
    "\n",
    "# Keep these\n",
    "print(training_images.shape)\n",
    "print(training_labels.shape)\n",
    "print(testing_images.shape)\n",
    "print(testing_labels.shape)\n",
    "\n",
    "# Their output should be:\n",
    "# (27455, 28, 28)\n",
    "# (27455,)\n",
    "# (7172, 28, 28)\n",
    "# (7172,)"
   ]
  },
  {
   "cell_type": "code",
   "execution_count": 3,
   "metadata": {
    "colab": {},
    "colab_type": "code",
    "id": "awoqRpyZdQkD"
   },
   "outputs": [
    {
     "name": "stdout",
     "output_type": "stream",
     "text": [
      "(27455, 28, 28, 1)\n",
      "(7172, 28, 28, 1)\n"
     ]
    }
   ],
   "source": [
    "# In this section you will have to add another dimension to the data\n",
    "# So, for example, if your array is (10000, 28, 28)\n",
    "# You will need to make it (10000, 28, 28, 1)\n",
    "# Hint: np.expand_dims\n",
    "\n",
    "training_images = np.expand_dims(training_images, axis=3)\n",
    "testing_images = np.expand_dims(testing_images, axis=3)\n",
    "\n",
    "# Create an ImageDataGenerator and do Image Augmentation\n",
    "train_datagen = ImageDataGenerator(\n",
    "    # Your Code Here\n",
    "    rescale = 1./255,\n",
    "#    rotation_range=40,\n",
    "#    width_shift_range=0.2,\n",
    "#    height_shift_range=0.2,\n",
    "#    shear_range=0.2,\n",
    "#    zoom_range=0.2,\n",
    "#    horizontal_flip=True,\n",
    "#    fill_mode='nearest'\n",
    "    )\n",
    "\n",
    "validation_datagen = ImageDataGenerator(rescale = 1./255)\n",
    "\n",
    "train_generator = train_datagen.flow(training_images, training_labels)\n",
    "\n",
    "validation_generator = validation_datagen.flow(testing_images, testing_labels)\n",
    "\n",
    "# Keep These\n",
    "print(training_images.shape)\n",
    "print(testing_images.shape)\n",
    "    \n",
    "# Their output should be:\n",
    "# (27455, 28, 28, 1)\n",
    "# (7172, 28, 28, 1)"
   ]
  },
  {
   "cell_type": "code",
   "execution_count": 14,
   "metadata": {
    "colab": {},
    "colab_type": "code",
    "id": "Rmb7S32cgRqS"
   },
   "outputs": [
    {
     "name": "stdout",
     "output_type": "stream",
     "text": [
      "Epoch 1/15\n",
      "32/32 [==============================] - 2s 73ms/step - loss: 3.2286 - accuracy: 0.0400 - val_loss: 3.2356 - val_accuracy: 0.0417\n",
      "Epoch 2/15\n",
      "32/32 [==============================] - 2s 65ms/step - loss: 3.2000 - accuracy: 0.0459 - val_loss: 3.1887 - val_accuracy: 0.0312\n",
      "Epoch 3/15\n",
      "32/32 [==============================] - 2s 60ms/step - loss: 3.1797 - accuracy: 0.0625 - val_loss: 3.1686 - val_accuracy: 0.0833\n",
      "Epoch 4/15\n",
      "32/32 [==============================] - 2s 60ms/step - loss: 3.1297 - accuracy: 0.0693 - val_loss: 3.1077 - val_accuracy: 0.0729\n",
      "Epoch 5/15\n",
      "32/32 [==============================] - 2s 62ms/step - loss: 3.0582 - accuracy: 0.0929 - val_loss: 2.9552 - val_accuracy: 0.1042\n",
      "Epoch 6/15\n",
      "32/32 [==============================] - 2s 60ms/step - loss: 3.0460 - accuracy: 0.0986 - val_loss: 2.9787 - val_accuracy: 0.0521\n",
      "Epoch 7/15\n",
      "32/32 [==============================] - 2s 59ms/step - loss: 2.9729 - accuracy: 0.1074 - val_loss: 3.0924 - val_accuracy: 0.0312\n",
      "Epoch 8/15\n",
      "32/32 [==============================] - 2s 57ms/step - loss: 2.8861 - accuracy: 0.1299 - val_loss: 2.7925 - val_accuracy: 0.0938\n",
      "Epoch 9/15\n",
      "32/32 [==============================] - 2s 59ms/step - loss: 2.7922 - accuracy: 0.1279 - val_loss: 2.7640 - val_accuracy: 0.1562\n",
      "Epoch 10/15\n",
      "32/32 [==============================] - 2s 62ms/step - loss: 2.7610 - accuracy: 0.1455 - val_loss: 2.4976 - val_accuracy: 0.2396\n",
      "Epoch 11/15\n",
      "32/32 [==============================] - 2s 57ms/step - loss: 2.6765 - accuracy: 0.1592 - val_loss: 2.4304 - val_accuracy: 0.1875\n",
      "Epoch 12/15\n",
      "32/32 [==============================] - 2s 59ms/step - loss: 2.5641 - accuracy: 0.1709 - val_loss: 2.3326 - val_accuracy: 0.2500\n",
      "Epoch 13/15\n",
      "32/32 [==============================] - 2s 59ms/step - loss: 2.6574 - accuracy: 0.1777 - val_loss: 2.4914 - val_accuracy: 0.1458\n",
      "Epoch 14/15\n",
      "32/32 [==============================] - 2s 59ms/step - loss: 2.5125 - accuracy: 0.1836 - val_loss: 2.3357 - val_accuracy: 0.2500\n",
      "Epoch 15/15\n",
      "32/32 [==============================] - 2s 59ms/step - loss: 2.5585 - accuracy: 0.1992 - val_loss: 2.2966 - val_accuracy: 0.2708\n"
     ]
    },
    {
     "data": {
      "text/plain": [
       "[101.02152667069528, 0.16076408]"
      ]
     },
     "execution_count": 14,
     "metadata": {},
     "output_type": "execute_result"
    }
   ],
   "source": [
    "# Define the model\n",
    "# Use no more than 2 Conv2D and 2 MaxPooling2D\n",
    "model = tf.keras.models.Sequential([\n",
    "    # Your Code Here\n",
    "    \n",
    "    # This is the first convolution\n",
    "    tf.keras.layers.Conv2D(64, (3,3), activation='relu', input_shape=(28, 28, 1)),\n",
    "    tf.keras.layers.MaxPooling2D(2, 2),\n",
    "   \n",
    "    # The second convolution\n",
    "    tf.keras.layers.Conv2D(128, (3,3), activation='relu'),\n",
    "    tf.keras.layers.MaxPooling2D(2,2),\n",
    "    tf.keras.layers.Flatten(),\n",
    "    #tf.keras.layers.Dropout(0.5),\n",
    "    tf.keras.layers.Dense(512, activation='relu'),\n",
    "\n",
    "   \n",
    "    # 512 neuron hidden layer\n",
    "    tf.keras.layers.Dense(1024, activation='relu'),\n",
    "    #tf.keras.layers.Dense(len((np.unique(training_labels))+1), activation='softmax')\n",
    "    tf.keras.layers.Dense(26, activation='softmax')\n",
    "    \n",
    "    #Available labels are {0, 1, 2, 3, 4, 5, 6, 7, 8, 10, 11, 12, 13, 14, 15, 16, 17, 18, 19, 20, 21, 22, 23, 24}.\n",
    "    #There is no class corresponding to the numerical label 9.\n",
    "    #But in case of both, 'sparse_categorical_crossentropy' (using ) and 'tf.keras.utils.to_categorical', the total number of classes are inferred to be the 25 (0 to 24),\n",
    "    #even if the class corresponding to the numerical label 9 is missing in the dataset.\n",
    "    #Therefore, we need at least 25 units in the Dense 'softmax' layer for the given dataset.\n",
    "    #Or, you can also down-shift the labels 10, 11, ... , 24 to 9, 10, ... , 23 and then len(np.unique(training_labels)) units in the 'softmax' layers will work just fine. \n",
    "])\n",
    "\n",
    "# Compile Model. \n",
    "model.compile(loss = 'sparse_categorical_crossentropy', optimizer='Adam', metrics=['accuracy'])\n",
    "\n",
    "# Train the Model\n",
    "history = model.fit_generator(train_generator, epochs=15, steps_per_epoch=32, validation_data = validation_generator, verbose = 1, validation_steps=3)\n",
    "\n",
    "model.evaluate(testing_images, testing_labels, verbose=0)"
   ]
  },
  {
   "cell_type": "code",
   "execution_count": 15,
   "metadata": {
    "colab": {},
    "colab_type": "code",
    "id": "_Q3Zpr46dsij"
   },
   "outputs": [
    {
     "data": {
      "image/png": "[encoded data removed]",
      "text/plain": [
       "<Figure size 432x288 with 1 Axes>"
      ]
     },
     "metadata": {
      "needs_background": "light"
     },
     "output_type": "display_data"
    },
    {
     "data": {
      "image/png": "[encoded data removed]",
      "text/plain": [
       "<Figure size 432x288 with 1 Axes>"
      ]
     },
     "metadata": {
      "needs_background": "light"
     },
     "output_type": "display_data"
    }
   ],
   "source": [
    "# Plot the chart for accuracy and loss on both training and validation\n",
    "%matplotlib inline\n",
    "import matplotlib.pyplot as plt\n",
    "\n",
    "acc = history.history['accuracy']\n",
    "val_acc = history.history['val_accuracy']\n",
    "loss = history.history['loss']\n",
    "val_loss = history.history['val_loss']\n",
    "\n",
    "epochs = range(len(acc))\n",
    "\n",
    "plt.plot(epochs, acc, 'r', label='Training accuracy')\n",
    "plt.plot(epochs, val_acc, 'b', label='Validation accuracy')\n",
    "plt.title('Training and validation accuracy')\n",
    "plt.legend()\n",
    "plt.figure()\n",
    "\n",
    "plt.plot(epochs, loss, 'r', label='Training Loss')\n",
    "plt.plot(epochs, val_loss, 'b', label='Validation Loss')\n",
    "plt.title('Training and validation loss')\n",
    "plt.legend()\n",
    "\n",
    "plt.show()"
   ]
  },
  {
   "cell_type": "markdown",
   "metadata": {},
   "source": [
    "# Submission Instructions"
   ]
  },
  {
   "cell_type": "code",
   "execution_count": null,
   "metadata": {},
   "outputs": [],
   "source": [
    "# Now click the 'Submit Assignment' button above."
   ]
  },
  {
   "cell_type": "markdown",
   "metadata": {},
   "source": [
    "# When you're done or would like to take a break, please run the two cells below to save your work and close the Notebook. This will free up resources for your fellow learners. "
   ]
  },
  {
   "cell_type": "code",
   "execution_count": null,
   "metadata": {},
   "outputs": [],
   "source": [
    "%%javascript\n",
    "<!-- Save the notebook -->\n",
    "IPython.notebook.save_checkpoint();"
   ]
  },
  {
   "cell_type": "code",
   "execution_count": null,
   "metadata": {},
   "outputs": [],
   "source": [
    "%%javascript\n",
    "IPython.notebook.session.delete();\n",
    "window.onbeforeunload = null\n",
    "setTimeout(function() { window.close(); }, 1000);"
   ]
  }
 ],
 "metadata": {
  "colab": {
   "name": "Exercise 8 - Question.ipynb",
   "provenance": []
  },
  "coursera": {
   "course_slug": "convolutional-neural-networks-tensorflow",
   "graded_item_id": "8mIh8",
   "launcher_item_id": "gg95t"
  },
  "kernelspec": {
   "display_name": "Python 3",
   "language": "python",
   "name": "python3"
  },
  "language_info": {
   "codemirror_mode": {
    "name": "ipython",
    "version": 3
   },
   "file_extension": ".py",
   "mimetype": "text/x-python",
   "name": "python",
   "nbconvert_exporter": "python",
   "pygments_lexer": "ipython3",
   "version": "3.6.8"
  }
 },
 "nbformat": 4,
 "nbformat_minor": 1
}
